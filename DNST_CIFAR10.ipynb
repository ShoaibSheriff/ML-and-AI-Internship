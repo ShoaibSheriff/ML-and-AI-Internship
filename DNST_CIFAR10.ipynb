{
  "nbformat": 4,
  "nbformat_minor": 0,
  "metadata": {
    "colab": {
      "name": "DNST_CIFAR10.ipynb",
      "version": "0.3.2",
      "provenance": [],
      "collapsed_sections": []
    },
    "kernelspec": {
      "name": "python3",
      "display_name": "Python 3"
    },
    "accelerator": "GPU"
  },
  "cells": [
    {
      "metadata": {
        "id": "K70hAckqg0EA",
        "colab_type": "code",
        "outputId": "bc49bdbb-e00e-487d-ae66-c9a44136b9af",
        "colab": {
          "base_uri": "https://localhost:8080/",
          "height": 34
        }
      },
      "cell_type": "code",
      "source": [
        "# https://keras.io/\n",
        "!pip install -q keras\n",
        "import keras"
      ],
      "execution_count": 0,
      "outputs": [
        {
          "output_type": "stream",
          "text": [
            "Using TensorFlow backend.\n"
          ],
          "name": "stderr"
        }
      ]
    },
    {
      "metadata": {
        "id": "wVIx_KIigxPV",
        "colab_type": "code",
        "colab": {}
      },
      "cell_type": "code",
      "source": [
        "import keras\n",
        "from keras.datasets import cifar10\n",
        "from keras.models import Model, Sequential\n",
        "from keras.layers import Dense, Dropout, Flatten, Input, AveragePooling2D, merge, Activation\n",
        "from keras.layers import Conv2D, MaxPooling2D, BatchNormalization\n",
        "from keras.layers import Concatenate\n",
        "from keras.optimizers import Adam"
      ],
      "execution_count": 0,
      "outputs": []
    },
    {
      "metadata": {
        "id": "UNHw6luQg3gc",
        "colab_type": "code",
        "colab": {}
      },
      "cell_type": "code",
      "source": [
        "# this part will prevent tensorflow to allocate all the avaliable GPU Memory\n",
        "# backend\n",
        "import tensorflow as tf\n",
        "from keras import backend as k\n",
        "\n",
        "# Don't pre-allocate memory; allocate as-needed\n",
        "config = tf.ConfigProto()\n",
        "config.gpu_options.allow_growth = True\n",
        "\n",
        "# Create a session with the above options specified.\n",
        "k.tensorflow_backend.set_session(tf.Session(config=config))"
      ],
      "execution_count": 0,
      "outputs": []
    },
    {
      "metadata": {
        "id": "dsO_yGxcg5D8",
        "colab_type": "code",
        "colab": {}
      },
      "cell_type": "code",
      "source": [
        "# Hyperparameters\n",
        "batch_size = 128\n",
        "num_classes = 10\n",
        "epochs = 50\n",
        "l = 40\n",
        "num_filter = 12\n",
        "compression = 0.5\n",
        "dropout_rate = 0.2"
      ],
      "execution_count": 0,
      "outputs": []
    },
    {
      "metadata": {
        "id": "mB7o3zu1g6eT",
        "colab_type": "code",
        "outputId": "0993aabb-de45-4d35-a180-e4fdb08fdb67",
        "colab": {
          "base_uri": "https://localhost:8080/",
          "height": 52
        }
      },
      "cell_type": "code",
      "source": [
        "# Load CIFAR10 Data\n",
        "(x_train, y_train), (x_test, y_test) = cifar10.load_data()\n",
        "img_height, img_width, channel = x_train.shape[1],x_train.shape[2],x_train.shape[3]\n",
        "\n",
        "# convert to one hot encoing \n",
        "y_train = keras.utils.to_categorical(y_train, num_classes)\n",
        "y_test = keras.utils.to_categorical(y_test, num_classes)\n"
      ],
      "execution_count": 0,
      "outputs": [
        {
          "output_type": "stream",
          "text": [
            "Downloading data from https://www.cs.toronto.edu/~kriz/cifar-10-python.tar.gz\n",
            "170500096/170498071 [==============================] - 9s 0us/step\n"
          ],
          "name": "stdout"
        }
      ]
    },
    {
      "metadata": {
        "id": "QZrm281_1YCW",
        "colab_type": "code",
        "outputId": "d91dfcb5-d507-4306-bf09-f64967c8241e",
        "colab": {
          "base_uri": "https://localhost:8080/",
          "height": 72
        }
      },
      "cell_type": "code",
      "source": [
        "# Image Augmentation\n",
        "\n",
        "from keras.preprocessing.image import ImageDataGenerator\n",
        "# define data preparation\n",
        "shift = 0.2\n",
        "datagen = ImageDataGenerator(width_shift_range=shift, height_shift_range=shift)\n",
        "# fit parameters from data\n",
        "datagen.fit(x_train)\n",
        "\n",
        "datagen = ImageDataGenerator(zca_whitening=True)\n",
        "# fit parameters from data\n",
        "datagen.fit(x_train)"
      ],
      "execution_count": 0,
      "outputs": [
        {
          "output_type": "stream",
          "text": [
            "/usr/local/lib/python3.6/dist-packages/keras/preprocessing/image.py:645: UserWarning: This ImageDataGenerator specifies `zca_whitening`, which overrides setting of `featurewise_center`.\n",
            "  warnings.warn('This ImageDataGenerator specifies '\n"
          ],
          "name": "stderr"
        }
      ]
    },
    {
      "metadata": {
        "id": "ee-sge5Kg7vr",
        "colab_type": "code",
        "colab": {}
      },
      "cell_type": "code",
      "source": [
        "# Dense Block\n",
        "def add_denseblock(input, num_filter = 12, dropout_rate = 0.2):\n",
        "    global compression\n",
        "    temp = input\n",
        "    for _ in range(l):\n",
        "        BatchNorm = BatchNormalization()(temp)\n",
        "        relu = Activation('relu')(BatchNorm)\n",
        "        Conv2D_3_3 = Conv2D(int(num_filter*compression), (3,3), use_bias=False ,padding='same')(relu)\n",
        "        if dropout_rate>0:\n",
        "          Conv2D_3_3 = Dropout(dropout_rate)(Conv2D_3_3)\n",
        "        concat = Concatenate(axis=-1)([temp,Conv2D_3_3])\n",
        "        \n",
        "        temp = concat\n",
        "        \n",
        "    return temp"
      ],
      "execution_count": 0,
      "outputs": []
    },
    {
      "metadata": {
        "id": "OOP6IPsGhBwb",
        "colab_type": "code",
        "colab": {}
      },
      "cell_type": "code",
      "source": [
        "def add_transition(input, num_filter = 12, dropout_rate = 0.2):\n",
        "    global compression\n",
        "    BatchNorm = BatchNormalization()(input)\n",
        "    relu = Activation('relu')(BatchNorm)\n",
        "    Conv2D_BottleNeck = Conv2D(int(num_filter*compression), (1,1), use_bias=False ,padding='same')(relu)\n",
        "    if dropout_rate>0:\n",
        "      Conv2D_BottleNeck = Dropout(dropout_rate)(Conv2D_BottleNeck)\n",
        "    avg = AveragePooling2D(pool_size=(2,2))(Conv2D_BottleNeck)\n",
        "    \n",
        "    return avg"
      ],
      "execution_count": 0,
      "outputs": []
    },
    {
      "metadata": {
        "id": "0RaKFpubhDIC",
        "colab_type": "code",
        "colab": {}
      },
      "cell_type": "code",
      "source": [
        "def output_layer(input):\n",
        "    global compression\n",
        "    BatchNorm = BatchNormalization()(input)\n",
        "    relu = Activation('relu')(BatchNorm)\n",
        "    AvgPooling = AveragePooling2D(pool_size=(2,2))(relu)\n",
        "    flat = Flatten()(AvgPooling)\n",
        "    output = Dense(num_classes, activation='softmax')(flat)\n",
        "    \n",
        "    return output"
      ],
      "execution_count": 0,
      "outputs": []
    },
    {
      "metadata": {
        "id": "anPCpQWhhGb7",
        "colab_type": "code",
        "colab": {}
      },
      "cell_type": "code",
      "source": [
        "num_filter = 12\n",
        "dropout_rate = 0.2\n",
        "l = 12\n",
        "input = Input(shape=(img_height, img_width, channel))\n",
        "First_Conv2D = Conv2D(num_filter, (3,3), use_bias=False ,padding='same')(input)\n",
        "\n",
        "First_Block = add_denseblock(First_Conv2D, num_filter, dropout_rate)\n",
        "First_Transition = add_transition(First_Block, num_filter, dropout_rate)\n",
        "\n",
        "Second_Block = add_denseblock(First_Transition, num_filter, dropout_rate)\n",
        "Second_Transition = add_transition(Second_Block, num_filter, dropout_rate)\n",
        "\n",
        "Third_Block = add_denseblock(Second_Transition, num_filter, dropout_rate)\n",
        "Third_Transition = add_transition(Third_Block, num_filter, dropout_rate)\n",
        "\n",
        "Last_Block = add_denseblock(Third_Transition,  num_filter, dropout_rate)\n",
        "output = output_layer(Last_Block)\n"
      ],
      "execution_count": 0,
      "outputs": []
    },
    {
      "metadata": {
        "id": "1kFh7pdxhNtT",
        "colab_type": "code",
        "colab": {}
      },
      "cell_type": "code",
      "source": [
        "model = Model(inputs=[input], outputs=[output])\n",
        "#model.summary()"
      ],
      "execution_count": 0,
      "outputs": []
    },
    {
      "metadata": {
        "id": "b4XOsW3ahSkL",
        "colab_type": "code",
        "colab": {}
      },
      "cell_type": "code",
      "source": [
        "# determine Loss function and Optimizer\n",
        "model.compile(loss='categorical_crossentropy',\n",
        "              optimizer=Adam(),\n",
        "              metrics=['accuracy'])"
      ],
      "execution_count": 0,
      "outputs": []
    },
    {
      "metadata": {
        "id": "crhGk7kEhXAz",
        "colab_type": "code",
        "outputId": "ed980959-3cec-4743-85cc-c48314d36c47",
        "colab": {
          "base_uri": "https://localhost:8080/",
          "height": 1805
        }
      },
      "cell_type": "code",
      "source": [
        "model.fit(x_train, y_train,\n",
        "                    batch_size=batch_size,\n",
        "                    epochs=epochs,\n",
        "                    verbose=1,\n",
        "                    validation_data=(x_test, y_test))"
      ],
      "execution_count": 0,
      "outputs": [
        {
          "output_type": "stream",
          "text": [
            "Train on 50000 samples, validate on 10000 samples\n",
            "Epoch 1/50\n",
            "50000/50000 [==============================] - 181s 4ms/step - loss: 1.7542 - acc: 0.3436 - val_loss: 1.7155 - val_acc: 0.3850\n",
            "Epoch 2/50\n",
            "19200/50000 [==========>...................] - ETA: 1:38 - loss: 1.4510 - acc: 0.4633"
          ],
          "name": "stdout"
        },
        {
          "output_type": "stream",
          "text": [
            "50000/50000 [==============================] - 169s 3ms/step - loss: 1.3831 - acc: 0.4900 - val_loss: 1.9960 - val_acc: 0.3847\n",
            "Epoch 3/50\n",
            "45568/50000 [==========================>...] - ETA: 14s - loss: 1.2245 - acc: 0.5542"
          ],
          "name": "stdout"
        },
        {
          "output_type": "stream",
          "text": [
            "50000/50000 [==============================] - 169s 3ms/step - loss: 1.2198 - acc: 0.5555 - val_loss: 1.3761 - val_acc: 0.5440\n",
            "Epoch 4/50\n",
            "50000/50000 [==============================] - 168s 3ms/step - loss: 1.1115 - acc: 0.5988 - val_loss: 1.6974 - val_acc: 0.4891\n",
            "Epoch 5/50\n",
            " 3328/50000 [>.............................] - ETA: 2:29 - loss: 1.0739 - acc: 0.6010"
          ],
          "name": "stdout"
        },
        {
          "output_type": "stream",
          "text": [
            "50000/50000 [==============================] - 167s 3ms/step - loss: 1.0410 - acc: 0.6230 - val_loss: 1.2187 - val_acc: 0.5950\n",
            "Epoch 6/50\n",
            "39552/50000 [======================>.......] - ETA: 33s - loss: 0.9887 - acc: 0.6441"
          ],
          "name": "stdout"
        },
        {
          "output_type": "stream",
          "text": [
            "50000/50000 [==============================] - 167s 3ms/step - loss: 0.9882 - acc: 0.6433 - val_loss: 1.1297 - val_acc: 0.6123\n",
            "Epoch 7/50\n",
            "50000/50000 [==============================] - 167s 3ms/step - loss: 0.9519 - acc: 0.6583 - val_loss: 0.9907 - val_acc: 0.6595\n",
            "Epoch 8/50\n",
            " 1920/50000 [>.............................] - ETA: 2:32 - loss: 0.8814 - acc: 0.6792"
          ],
          "name": "stdout"
        },
        {
          "output_type": "stream",
          "text": [
            "50000/50000 [==============================] - 168s 3ms/step - loss: 0.9168 - acc: 0.6707 - val_loss: 1.1864 - val_acc: 0.6034\n",
            "Epoch 9/50\n",
            "38912/50000 [======================>.......] - ETA: 35s - loss: 0.8837 - acc: 0.6821"
          ],
          "name": "stdout"
        },
        {
          "output_type": "stream",
          "text": [
            "50000/50000 [==============================] - 167s 3ms/step - loss: 0.8850 - acc: 0.6830 - val_loss: 0.9487 - val_acc: 0.6822\n",
            "Epoch 10/50\n",
            "50000/50000 [==============================] - 167s 3ms/step - loss: 0.8601 - acc: 0.6921 - val_loss: 0.9374 - val_acc: 0.6797\n",
            "Epoch 11/50\n",
            " 1536/50000 [..............................] - ETA: 2:32 - loss: 0.8267 - acc: 0.7064"
          ],
          "name": "stdout"
        },
        {
          "output_type": "stream",
          "text": [
            "50000/50000 [==============================] - 168s 3ms/step - loss: 0.8350 - acc: 0.7002 - val_loss: 0.9636 - val_acc: 0.6693\n",
            "Epoch 12/50\n",
            "38656/50000 [======================>.......] - ETA: 36s - loss: 0.8211 - acc: 0.7095"
          ],
          "name": "stdout"
        },
        {
          "output_type": "stream",
          "text": [
            "50000/50000 [==============================] - 167s 3ms/step - loss: 0.8183 - acc: 0.7091 - val_loss: 1.1510 - val_acc: 0.6348\n",
            "Epoch 13/50\n",
            "50000/50000 [==============================] - 168s 3ms/step - loss: 0.7990 - acc: 0.7149 - val_loss: 0.9943 - val_acc: 0.6823\n",
            "Epoch 14/50\n",
            " 1536/50000 [..............................] - ETA: 2:35 - loss: 0.7716 - acc: 0.7240"
          ],
          "name": "stdout"
        },
        {
          "output_type": "stream",
          "text": [
            "50000/50000 [==============================] - 167s 3ms/step - loss: 0.7805 - acc: 0.7207 - val_loss: 0.8718 - val_acc: 0.7057\n",
            "Epoch 15/50\n",
            "38656/50000 [======================>.......] - ETA: 36s - loss: 0.7653 - acc: 0.7265"
          ],
          "name": "stdout"
        },
        {
          "output_type": "stream",
          "text": [
            "50000/50000 [==============================] - 168s 3ms/step - loss: 0.7665 - acc: 0.7260 - val_loss: 1.2745 - val_acc: 0.5991\n",
            "Epoch 16/50\n",
            "50000/50000 [==============================] - 167s 3ms/step - loss: 0.7473 - acc: 0.7341 - val_loss: 1.4557 - val_acc: 0.5986\n",
            "Epoch 17/50\n",
            " 1536/50000 [..............................] - ETA: 2:34 - loss: 0.7759 - acc: 0.7246"
          ],
          "name": "stdout"
        },
        {
          "output_type": "stream",
          "text": [
            "50000/50000 [==============================] - 167s 3ms/step - loss: 0.7413 - acc: 0.7353 - val_loss: 0.8154 - val_acc: 0.7231\n",
            "Epoch 18/50\n",
            "38656/50000 [======================>.......] - ETA: 36s - loss: 0.7214 - acc: 0.7432"
          ],
          "name": "stdout"
        },
        {
          "output_type": "stream",
          "text": [
            "50000/50000 [==============================] - 168s 3ms/step - loss: 0.7254 - acc: 0.7426 - val_loss: 0.9283 - val_acc: 0.6899\n",
            "Epoch 19/50\n",
            "50000/50000 [==============================] - 167s 3ms/step - loss: 0.7082 - acc: 0.7487 - val_loss: 1.0120 - val_acc: 0.6806\n",
            "Epoch 20/50\n",
            " 1536/50000 [..............................] - ETA: 2:33 - loss: 0.6990 - acc: 0.7539"
          ],
          "name": "stdout"
        },
        {
          "output_type": "stream",
          "text": [
            "50000/50000 [==============================] - 167s 3ms/step - loss: 0.7024 - acc: 0.7504 - val_loss: 0.9483 - val_acc: 0.7018\n",
            "Epoch 21/50\n",
            "38656/50000 [======================>.......] - ETA: 36s - loss: 0.6860 - acc: 0.7573"
          ],
          "name": "stdout"
        },
        {
          "output_type": "stream",
          "text": [
            "50000/50000 [==============================] - 168s 3ms/step - loss: 0.6863 - acc: 0.7564 - val_loss: 1.2533 - val_acc: 0.6308\n",
            "Epoch 22/50\n",
            "50000/50000 [==============================] - 168s 3ms/step - loss: 0.6724 - acc: 0.7616 - val_loss: 0.7658 - val_acc: 0.7402\n",
            "Epoch 23/50\n",
            " 1536/50000 [..............................] - ETA: 2:34 - loss: 0.6872 - acc: 0.7507"
          ],
          "name": "stdout"
        },
        {
          "output_type": "stream",
          "text": [
            "50000/50000 [==============================] - 168s 3ms/step - loss: 0.6648 - acc: 0.7660 - val_loss: 0.8180 - val_acc: 0.7365\n",
            "Epoch 24/50\n",
            "38656/50000 [======================>.......] - ETA: 36s - loss: 0.6576 - acc: 0.7668"
          ],
          "name": "stdout"
        },
        {
          "output_type": "stream",
          "text": [
            "50000/50000 [==============================] - 168s 3ms/step - loss: 0.6557 - acc: 0.7672 - val_loss: 0.7196 - val_acc: 0.7635\n",
            "Epoch 25/50\n",
            "50000/50000 [==============================] - 167s 3ms/step - loss: 0.6452 - acc: 0.7731 - val_loss: 0.9029 - val_acc: 0.7163\n",
            "Epoch 26/50\n",
            " 1536/50000 [..............................] - ETA: 2:36 - loss: 0.6440 - acc: 0.7708"
          ],
          "name": "stdout"
        },
        {
          "output_type": "stream",
          "text": [
            "50000/50000 [==============================] - 167s 3ms/step - loss: 0.6364 - acc: 0.7757 - val_loss: 0.8185 - val_acc: 0.7432\n",
            "Epoch 27/50\n",
            "38656/50000 [======================>.......] - ETA: 35s - loss: 0.6293 - acc: 0.7777"
          ],
          "name": "stdout"
        },
        {
          "output_type": "stream",
          "text": [
            "50000/50000 [==============================] - 167s 3ms/step - loss: 0.6306 - acc: 0.7767 - val_loss: 1.0620 - val_acc: 0.6987\n",
            "Epoch 28/50\n",
            "50000/50000 [==============================] - 166s 3ms/step - loss: 0.6208 - acc: 0.7807 - val_loss: 0.6894 - val_acc: 0.7743\n",
            "Epoch 29/50\n",
            " 1536/50000 [..............................] - ETA: 2:34 - loss: 0.5871 - acc: 0.8001"
          ],
          "name": "stdout"
        },
        {
          "output_type": "stream",
          "text": [
            "50000/50000 [==============================] - 167s 3ms/step - loss: 0.6096 - acc: 0.7841 - val_loss: 0.8422 - val_acc: 0.7317\n",
            "Epoch 30/50\n",
            "38656/50000 [======================>.......] - ETA: 36s - loss: 0.6049 - acc: 0.7882"
          ],
          "name": "stdout"
        },
        {
          "output_type": "stream",
          "text": [
            "50000/50000 [==============================] - 167s 3ms/step - loss: 0.6088 - acc: 0.7867 - val_loss: 0.8149 - val_acc: 0.7386\n",
            "Epoch 31/50\n",
            "50000/50000 [==============================] - 167s 3ms/step - loss: 0.6001 - acc: 0.7899 - val_loss: 1.0769 - val_acc: 0.6890\n",
            "Epoch 32/50\n",
            " 1536/50000 [..............................] - ETA: 2:32 - loss: 0.5800 - acc: 0.7897"
          ],
          "name": "stdout"
        },
        {
          "output_type": "stream",
          "text": [
            "50000/50000 [==============================] - 167s 3ms/step - loss: 0.5957 - acc: 0.7895 - val_loss: 0.7672 - val_acc: 0.7630\n",
            "Epoch 33/50\n",
            "38656/50000 [======================>.......] - ETA: 36s - loss: 0.5865 - acc: 0.7921"
          ],
          "name": "stdout"
        },
        {
          "output_type": "stream",
          "text": [
            "50000/50000 [==============================] - 168s 3ms/step - loss: 0.5891 - acc: 0.7915 - val_loss: 0.8799 - val_acc: 0.7352\n",
            "Epoch 34/50\n",
            "50000/50000 [==============================] - 167s 3ms/step - loss: 0.5814 - acc: 0.7955 - val_loss: 0.7044 - val_acc: 0.7716\n",
            "Epoch 35/50\n",
            " 1536/50000 [..............................] - ETA: 2:33 - loss: 0.5429 - acc: 0.8138"
          ],
          "name": "stdout"
        },
        {
          "output_type": "stream",
          "text": [
            "50000/50000 [==============================] - 167s 3ms/step - loss: 0.5752 - acc: 0.7984 - val_loss: 1.1314 - val_acc: 0.6833\n",
            "Epoch 36/50\n",
            "38656/50000 [======================>.......] - ETA: 36s - loss: 0.5673 - acc: 0.8013"
          ],
          "name": "stdout"
        },
        {
          "output_type": "stream",
          "text": [
            "50000/50000 [==============================] - 167s 3ms/step - loss: 0.5696 - acc: 0.8008 - val_loss: 1.1330 - val_acc: 0.6856\n",
            "Epoch 37/50\n",
            "50000/50000 [==============================] - 167s 3ms/step - loss: 0.5638 - acc: 0.8035 - val_loss: 0.6707 - val_acc: 0.7815\n",
            "Epoch 38/50\n",
            " 1536/50000 [..............................] - ETA: 2:32 - loss: 0.5247 - acc: 0.8184"
          ],
          "name": "stdout"
        },
        {
          "output_type": "stream",
          "text": [
            "50000/50000 [==============================] - 167s 3ms/step - loss: 0.5603 - acc: 0.8024 - val_loss: 1.0851 - val_acc: 0.6895\n",
            "Epoch 39/50\n",
            "38656/50000 [======================>.......] - ETA: 36s - loss: 0.5496 - acc: 0.8060"
          ],
          "name": "stdout"
        },
        {
          "output_type": "stream",
          "text": [
            "50000/50000 [==============================] - 169s 3ms/step - loss: 0.5503 - acc: 0.8055 - val_loss: 1.0136 - val_acc: 0.7222\n",
            "Epoch 40/50\n",
            "50000/50000 [==============================] - 167s 3ms/step - loss: 0.5522 - acc: 0.8053 - val_loss: 1.0589 - val_acc: 0.7047\n",
            "Epoch 41/50\n",
            " 1536/50000 [..............................] - ETA: 2:33 - loss: 0.5272 - acc: 0.8203"
          ],
          "name": "stdout"
        },
        {
          "output_type": "stream",
          "text": [
            "50000/50000 [==============================] - 167s 3ms/step - loss: 0.5459 - acc: 0.8093 - val_loss: 0.8784 - val_acc: 0.7342\n",
            "Epoch 42/50\n",
            "38656/50000 [======================>.......] - ETA: 35s - loss: 0.5428 - acc: 0.8089"
          ],
          "name": "stdout"
        },
        {
          "output_type": "stream",
          "text": [
            "50000/50000 [==============================] - 166s 3ms/step - loss: 0.5427 - acc: 0.8094 - val_loss: 0.7367 - val_acc: 0.7713\n",
            "Epoch 43/50\n",
            "50000/50000 [==============================] - 166s 3ms/step - loss: 0.5331 - acc: 0.8116 - val_loss: 0.6984 - val_acc: 0.7751\n",
            "Epoch 44/50\n",
            " 1536/50000 [..............................] - ETA: 2:32 - loss: 0.4794 - acc: 0.8314"
          ],
          "name": "stdout"
        },
        {
          "output_type": "stream",
          "text": [
            "50000/50000 [==============================] - 166s 3ms/step - loss: 0.5315 - acc: 0.8128 - val_loss: 1.1091 - val_acc: 0.6998\n",
            "Epoch 45/50\n",
            "38656/50000 [======================>.......] - ETA: 35s - loss: 0.5238 - acc: 0.8143"
          ],
          "name": "stdout"
        },
        {
          "output_type": "stream",
          "text": [
            "50000/50000 [==============================] - 166s 3ms/step - loss: 0.5250 - acc: 0.8147 - val_loss: 0.7834 - val_acc: 0.7640\n",
            "Epoch 46/50\n",
            "50000/50000 [==============================] - 165s 3ms/step - loss: 0.5256 - acc: 0.8149 - val_loss: 0.9126 - val_acc: 0.7404\n",
            "Epoch 47/50\n",
            " 1536/50000 [..............................] - ETA: 2:31 - loss: 0.5192 - acc: 0.8197"
          ],
          "name": "stdout"
        },
        {
          "output_type": "stream",
          "text": [
            "50000/50000 [==============================] - 165s 3ms/step - loss: 0.5205 - acc: 0.8164 - val_loss: 1.2081 - val_acc: 0.6906\n",
            "Epoch 48/50\n",
            "38656/50000 [======================>.......] - ETA: 35s - loss: 0.5154 - acc: 0.8186"
          ],
          "name": "stdout"
        },
        {
          "output_type": "stream",
          "text": [
            "50000/50000 [==============================] - 165s 3ms/step - loss: 0.5179 - acc: 0.8178 - val_loss: 0.8760 - val_acc: 0.7328\n",
            "Epoch 49/50\n",
            "50000/50000 [==============================] - 165s 3ms/step - loss: 0.5150 - acc: 0.8187 - val_loss: 0.8978 - val_acc: 0.7494\n",
            "Epoch 50/50\n",
            " 1536/50000 [..............................] - ETA: 2:31 - loss: 0.4832 - acc: 0.8262"
          ],
          "name": "stdout"
        },
        {
          "output_type": "stream",
          "text": [
            "50000/50000 [==============================] - 165s 3ms/step - loss: 0.5099 - acc: 0.8206 - val_loss: 0.7418 - val_acc: 0.7735\n"
          ],
          "name": "stdout"
        },
        {
          "output_type": "execute_result",
          "data": {
            "text/plain": [
              "<keras.callbacks.History at 0x7f7504159898>"
            ]
          },
          "metadata": {
            "tags": []
          },
          "execution_count": 13
        }
      ]
    },
    {
      "metadata": {
        "id": "ZcWydmIVhZGr",
        "colab_type": "code",
        "outputId": "1dac7275-fd7e-42cd-8ac9-a0fdaf5263f3",
        "colab": {
          "base_uri": "https://localhost:8080/",
          "height": 69
        }
      },
      "cell_type": "code",
      "source": [
        "# Test the model\n",
        "score = model.evaluate(x_test, y_test, verbose=1)\n",
        "print('Test loss:', score[0])\n",
        "print('Test accuracy:', score[1])"
      ],
      "execution_count": 0,
      "outputs": [
        {
          "output_type": "stream",
          "text": [
            "10000/10000 [==============================] - 13s 1ms/step\n",
            "Test loss: 0.7418320245742798\n",
            "Test accuracy: 0.7735\n"
          ],
          "name": "stdout"
        }
      ]
    },
    {
      "metadata": {
        "id": "UE3lF6EH1r_L",
        "colab_type": "code",
        "outputId": "69fa9915-c962-4b85-d915-866c2f6a7d9d",
        "colab": {
          "base_uri": "https://localhost:8080/",
          "height": 34
        }
      },
      "cell_type": "code",
      "source": [
        "# Save the trained weights in to .h5 format\n",
        "model.save_weights(\"DNST_model.h5\")\n",
        "print(\"Saved model to disk\")"
      ],
      "execution_count": 0,
      "outputs": [
        {
          "output_type": "stream",
          "text": [
            "Saved model to disk\n"
          ],
          "name": "stdout"
        }
      ]
    },
    {
      "metadata": {
        "id": "ai-yZ2ED5AK1",
        "colab_type": "code",
        "colab": {}
      },
      "cell_type": "code",
      "source": [
        "from google.colab import files\n",
        "\n",
        "files.download('DNST_model.h5')"
      ],
      "execution_count": 0,
      "outputs": []
    },
    {
      "metadata": {
        "id": "Og56VCRh5j8V",
        "colab_type": "code",
        "colab": {}
      },
      "cell_type": "code",
      "source": [
        ""
      ],
      "execution_count": 0,
      "outputs": []
    }
  ]
}