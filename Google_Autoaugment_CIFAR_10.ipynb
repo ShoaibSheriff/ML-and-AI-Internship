{
  "nbformat": 4,
  "nbformat_minor": 0,
  "metadata": {
    "colab": {
      "name": "Google_Autoaugment CIFAR-10.ipynb",
      "version": "0.3.2",
      "provenance": [],
      "collapsed_sections": [],
      "include_colab_link": true
    },
    "kernelspec": {
      "name": "python3",
      "display_name": "Python 3"
    }
  },
  "cells": [
    {
      "cell_type": "markdown",
      "metadata": {
        "id": "view-in-github",
        "colab_type": "text"
      },
      "source": [
        "<a href=\"https://colab.research.google.com/github/ShoaibSheriff/Computer-Vision/blob/master/Google_Autoaugment_CIFAR_10.ipynb\" target=\"_parent\"><img src=\"https://colab.research.google.com/assets/colab-badge.svg\" alt=\"Open In Colab\"/></a>"
      ]
    },
    {
      "metadata": {
        "id": "qRCYVQmNB1Vk",
        "colab_type": "code",
        "colab": {}
      },
      "cell_type": "code",
      "source": [
        "import random\n",
        "\n",
        "def runWithProbabilityP(p) :\n",
        "  rnd = random.randrange(0, 100)\n",
        "  #print(rnd)\n",
        "  if (rnd < (p*100)) :\n",
        "    return True\n",
        "  else :\n",
        "    return False"
      ],
      "execution_count": 0,
      "outputs": []
    },
    {
      "metadata": {
        "id": "KASs74BCCSLu",
        "colab_type": "code",
        "colab": {}
      },
      "cell_type": "code",
      "source": [
        "#runWithProbabilityP(0.1)"
      ],
      "execution_count": 0,
      "outputs": []
    },
    {
      "metadata": {
        "id": "cwUDwqd_xRSc",
        "colab_type": "code",
        "outputId": "531fddb7-49b2-480c-b117-b8bd11a4bab2",
        "colab": {
          "base_uri": "https://localhost:8080/",
          "height": 68
        }
      },
      "cell_type": "code",
      "source": [
        "!pip install Pillow\n",
        "\n",
        "from __future__ import print_function\n",
        "\n",
        "import os.path\n",
        "import scipy\n",
        "\n",
        "import numpy as np\n",
        "import sklearn.metrics as metrics\n",
        "import matplotlib.pyplot as plt\n",
        "\n",
        "from keras.datasets import cifar10\n",
        "from keras.utils import np_utils\n",
        "from keras.preprocessing.image import ImageDataGenerator\n",
        "from keras.optimizers import Adam, SGD\n",
        "from keras.callbacks import ModelCheckpoint, ReduceLROnPlateau\n",
        "from keras import backend as K\n",
        "\n",
        "(trainX, trainY), (testX, testY) = cifar10.load_data()\n",
        "\n",
        "myimage = trainX[4998]\n",
        "#type(myimage)"
      ],
      "execution_count": 0,
      "outputs": [
        {
          "output_type": "stream",
          "text": [
            "Requirement already satisfied: Pillow in /usr/local/lib/python3.6/dist-packages (4.0.0)\r\n",
            "Requirement already satisfied: olefile in /usr/local/lib/python3.6/dist-packages (from Pillow) (0.45.1)\r\n"
          ],
          "name": "stdout"
        },
        {
          "output_type": "stream",
          "text": [
            "Using TensorFlow backend.\n"
          ],
          "name": "stderr"
        }
      ]
    },
    {
      "metadata": {
        "id": "qKq_KSoOxg7m",
        "colab_type": "code",
        "outputId": "584978af-3753-4e1b-e744-592f2531fd36",
        "colab": {
          "base_uri": "https://localhost:8080/",
          "height": 283
        }
      },
      "cell_type": "code",
      "source": [
        "##Original\n",
        "\n",
        "%matplotlib inline\n",
        "plt.figure()\n",
        "plt.imshow(myimage)\n"
      ],
      "execution_count": 0,
      "outputs": [
        {
          "output_type": "execute_result",
          "data": {
            "text/plain": [
              "<matplotlib.image.AxesImage at 0x7f560f66b748>"
            ]
          },
          "metadata": {
            "tags": []
          },
          "execution_count": 4
        },
        {
          "output_type": "display_data",
          "data": {
            "image/png": "[encoded data removed]",
            "text/plain": [
              "<matplotlib.figure.Figure at 0x7f562b24cb38>"
            ]
          },
          "metadata": {
            "tags": []
          }
        }
      ]
    },
    {
      "metadata": {
        "id": "aan8r6b162Qq",
        "colab_type": "code",
        "colab": {}
      },
      "cell_type": "code",
      "source": [
        "#Shear runShearYWithP\n",
        "\n",
        "from skimage import transform as tf\n",
        "\n",
        "def runShearYWithP(im, p, m) :\n",
        "  if(runWithProbabilityP(p)) :\n",
        "    afine_tf = tf.AffineTransform(shear=(-0.3 + (m * 0.6)))\n",
        "    im = tf.warp(im, inverse_map=afine_tf)\n",
        "    im = Image.fromarray((im * 255).astype('uint8'))\n",
        "  return im"
      ],
      "execution_count": 0,
      "outputs": []
    },
    {
      "metadata": {
        "id": "rIv1i3iFxjEW",
        "colab_type": "code",
        "colab": {}
      },
      "cell_type": "code",
      "source": [
        "#Invert\n",
        "\n",
        "from PIL import Image, ImageOps\n",
        "\n",
        "def runInvertWithP(im, p, m) :\n",
        "  if(runWithProbabilityP(p)) :\n",
        "    im = ImageOps.invert(im)\n",
        "  return im"
      ],
      "execution_count": 0,
      "outputs": []
    },
    {
      "metadata": {
        "id": "1ONtau4T1coR",
        "colab_type": "code",
        "colab": {}
      },
      "cell_type": "code",
      "source": [
        "#Contrast\n",
        "\n",
        "from PIL import ImageEnhance\n",
        "\n",
        "def runContrastWithP(im, p, m) :\n",
        "  if(runWithProbabilityP(p)) :\n",
        "    enhancer = ImageEnhance.Contrast(im)\n",
        "    im = enhancer.enhance(0.1 + m*1.8)\n",
        "  return im"
      ],
      "execution_count": 0,
      "outputs": []
    },
    {
      "metadata": {
        "id": "isnVc9sxx6AC",
        "colab_type": "code",
        "colab": {}
      },
      "cell_type": "code",
      "source": [
        "#Rotate\n",
        "\n",
        "from PIL import Image, ImageOps\n",
        "\n",
        "def runRotateWithP(im, p, m) :\n",
        "  if(runWithProbabilityP(p)) :\n",
        "    im = im.rotate(-30 + m*30)\n",
        "  return im"
      ],
      "execution_count": 0,
      "outputs": []
    },
    {
      "metadata": {
        "id": "uDXjluqy2Gqh",
        "colab_type": "code",
        "colab": {}
      },
      "cell_type": "code",
      "source": [
        "#TranslateX\n",
        "\n",
        "from PIL import Image\n",
        "def runTranslateXWithP(im, p, m) :\n",
        "  if(runWithProbabilityP(p)) :\n",
        "    a = 1\n",
        "    b = 0\n",
        "    c = -15 + (m *  30) # +left/-right \n",
        "    d = 0\n",
        "    e = 1\n",
        "    f = 0 # +up/-down \n",
        "    im.transform(im.size, Image.AFFINE, (a, b, c, d, e, f))\n",
        "  return im"
      ],
      "execution_count": 0,
      "outputs": []
    },
    {
      "metadata": {
        "id": "HXyFZtJPMQ6R",
        "colab_type": "code",
        "colab": {}
      },
      "cell_type": "code",
      "source": [
        "#TranslateY\n",
        "\n",
        "from PIL import Image\n",
        "def runTranslateYWithP(im, p, m) :\n",
        "  if(runWithProbabilityP(p)) :\n",
        "    a = 1\n",
        "    b = 0\n",
        "    c = 0 # +left/-right \n",
        "    d = 0\n",
        "    e = 1\n",
        "    f = -15 + (m *  30) # +up/-down \n",
        "    im.transform(im.size, Image.AFFINE, (a, b, c, d, e, f))\n",
        "  return im"
      ],
      "execution_count": 0,
      "outputs": []
    },
    {
      "metadata": {
        "id": "0Ege4UwGyEcM",
        "colab_type": "code",
        "colab": {}
      },
      "cell_type": "code",
      "source": [
        "#Sharpness\n",
        "\n",
        "from PIL import ImageEnhance\n",
        "\n",
        "def runSharpnessWithP(im, p, m) :\n",
        "  if(runWithProbabilityP(p)) :\n",
        "    enhancer = ImageEnhance.Sharpness(im)\n",
        "    im = enhancer.enhance(0.1 + m*1.8)\n",
        "  return im"
      ],
      "execution_count": 0,
      "outputs": []
    },
    {
      "metadata": {
        "id": "BzqEW4oi7w7u",
        "colab_type": "code",
        "colab": {}
      },
      "cell_type": "code",
      "source": [
        "#Autocontrast\n",
        "from PIL import Image, ImageOps\n",
        "\n",
        "def runAutoContrastWithP(im, p, m) :\n",
        "  if(runWithProbabilityP(p)) :\n",
        "    im = ImageOps.autocontrast(im)\n",
        "  return im"
      ],
      "execution_count": 0,
      "outputs": []
    },
    {
      "metadata": {
        "id": "HtGByf068XX0",
        "colab_type": "code",
        "colab": {}
      },
      "cell_type": "code",
      "source": [
        "#Equalize\n",
        "from PIL import Image, ImageOps\n",
        "\n",
        "def runEqualizeWithP(im, p, m) :\n",
        "  if(runWithProbabilityP(p)) :\n",
        "    im = ImageOps.equalize(im)\n",
        "  return im"
      ],
      "execution_count": 0,
      "outputs": []
    },
    {
      "metadata": {
        "id": "fubp8cWH8zj8",
        "colab_type": "code",
        "colab": {}
      },
      "cell_type": "code",
      "source": [
        "#Posterize\n",
        "from PIL import Image, ImageOps\n",
        "\n",
        "def runPosterizeWithP(im, p, m) :\n",
        "  if(runWithProbabilityP(p)) :\n",
        "    im = ImageOps.posterize(im, int(4 + m*4 // 1))\n",
        "  return im"
      ],
      "execution_count": 0,
      "outputs": []
    },
    {
      "metadata": {
        "id": "X9uiebOq9WMs",
        "colab_type": "code",
        "colab": {}
      },
      "cell_type": "code",
      "source": [
        "#Color\n",
        "\n",
        "from PIL import ImageEnhance\n",
        "\n",
        "def runColorWithP(im, p, m) :\n",
        "  if(runWithProbabilityP(p)) :\n",
        "    enhancer = ImageEnhance.Color(im)\n",
        "    im = enhancer.enhance(0.1 + m*1.8)\n",
        "  return im"
      ],
      "execution_count": 0,
      "outputs": []
    },
    {
      "metadata": {
        "id": "7d85CRUQ-VNe",
        "colab_type": "code",
        "colab": {}
      },
      "cell_type": "code",
      "source": [
        "#Brightness\n",
        "\n",
        "from PIL import ImageEnhance\n",
        "\n",
        "def runBrightnessWithP(im, p, m) :\n",
        "  if(runWithProbabilityP(p)) :\n",
        "    enhancer = ImageEnhance.Brightness(im)\n",
        "    im = enhancer.enhance(0.1 + m*1.8)\n",
        "  return im"
      ],
      "execution_count": 0,
      "outputs": []
    },
    {
      "metadata": {
        "id": "1RWJuvWN-pcH",
        "colab_type": "code",
        "colab": {}
      },
      "cell_type": "code",
      "source": [
        "#Solarize\n",
        "\n",
        "from PIL import Image, ImageOps\n",
        "\n",
        "def runSolarizeWithP(im, p, m) :\n",
        "  if(runWithProbabilityP(p)) :\n",
        "    im = ImageOps.solarize(im, m * 256)\n",
        "  return im"
      ],
      "execution_count": 0,
      "outputs": []
    },
    {
      "metadata": {
        "id": "OccnF7f7D1cZ",
        "colab_type": "code",
        "colab": {}
      },
      "cell_type": "code",
      "source": [
        "im = Image.fromarray(myimage)\n",
        "\n",
        "'''\n",
        "Sub-policy 0 (Invert,0.1,7) (Contrast,0.2,6)\n",
        "Sub-policy 1 (Rotate,0.7,2) (TranslateX,0.3,9)\n",
        "Sub-policy 2 (Sharpness,0.8,1) (Sharpness,0.9,3)\n",
        "Sub-policy 3 (ShearY,0.5,8) (TranslateY,0.7,9)\n",
        "Sub-policy 4 (AutoContrast,0.5,8) (Equalize,0.9,2)'''\n",
        "\n",
        "im = runInvertWithP(im, 0.1, 7/10)\n",
        "im = runContrastWithP(im, 0.2, 6/10)\n",
        "im = runRotateWithP(im, 0.7, 2/10)\n",
        "im = runTranslateXWithP(im, 0.3, 9/10)\n",
        "im = runSharpnessWithP(im, 0.8, 1/10)\n",
        "im = runSharpnessWithP(im, 0.9, 3/10)\n",
        "im = runShearYWithP(im, 0.5, 8/10)\n",
        "im = runTranslateYWithP(im, 0.7, 9/10)\n",
        "im = runAutoContrastWithP(im, 0.5, 8/10)\n",
        "im = runEqualizeWithP(im, 0.9, 2/10)\n",
        "\n",
        "'''\n",
        "Sub-policy 5 (ShearY,0.2,7) (Posterize,0.3,7)\n",
        "Sub-policy 6 (Color,0.4,3) (Brightness,0.6,7)\n",
        "Sub-policy 7 (Sharpness,0.3,9) (Brightness,0.7,9)\n",
        "Sub-policy 8 (Equalize,0.6,5) (Equalize,0.5,1)\n",
        "Sub-policy 9 (Contrast,0.6,7) (Sharpness,0.6,5)'''\n",
        "\n",
        "im = runShearYWithP(im, 0.2, 7/10)\n",
        "im = runPosterizeWithP(im, 0.3, 7/10)\n",
        "im = runColorWithP(im, 0.4, 3/10)\n",
        "im = runBrightnessWithP(im, 0.6, 7/10)\n",
        "im = runSharpnessWithP(im, 0.3, 9/10)\n",
        "im = runBrightnessWithP(im, 0.7, 9/10)\n",
        "im = runEqualizeWithP(im, 0.6, 5/10)\n",
        "im = runEqualizeWithP(im, 0.5, 1/10)\n",
        "im = runContrastWithP(im, 0.6, 7/10)\n",
        "im = runSharpnessWithP(im, 0.6, 5/10)\n",
        "\n",
        "\n",
        "'''\n",
        "Sub-policy 10 (Color,0.7,7) (TranslateX,0.5,8)\n",
        "Sub-policy 11 (Equalize,0.3,7) (AutoContrast,0.4,8)\n",
        "Sub-policy 12 (TranslateY,0.4,3) (Sharpness,0.2,6)\n",
        "Sub-policy 13 (Brightness,0.9,6) (Color,0.2,8)\n",
        "Sub-policy 14 (Solarize,0.5,2) (Invert,0.0,3)'''\n",
        "\n",
        "im = runColorWithP(im, 0.7, 7/10)\n",
        "im = runTranslateXWithP(im, 0.5, 8/10)\n",
        "im = runEqualizeWithP(im, 0.3, 7/10)\n",
        "im = runAutoContrastWithP(im, 0.4, 8/10)\n",
        "im = runTranslateYWithP(im, 0.4, 3/10)\n",
        "im = runSharpnessWithP(im, 0.2, 6/10)\n",
        "im = runBrightnessWithP(im, 0.9, 6/10)\n",
        "im = runColorWithP(im, 0.2, 8/10)\n",
        "im = runSolarizeWithP(im, 0.5, 2/10)\n",
        "im = runInvertWithP(im, 0, 3/10)\n",
        "\n",
        "'''\n",
        "Sub-policy 15 (Equalize,0.2,0) (AutoContrast,0.6,0)\n",
        "Sub-policy 16 (Equalize,0.2,8) (Equalize,0.6,4)\n",
        "Sub-policy 17 (Color,0.9,9) (Equalize,0.6,6)\n",
        "Sub-policy 18 (AutoContrast,0.8,4) (Solarize,0.2,8)\n",
        "Sub-policy 19 (Brightness,0.1,3) (Color,0.7,0)'''\n",
        "\n",
        "im = runEqualizeWithP(im, 0.2, 0)\n",
        "im = runAutoContrastWithP(im, 0.6, 0)\n",
        "im = runEqualizeWithP(im, 0.2, 8/10)\n",
        "im = runEqualizeWithP(im, 0.6, 4/10)\n",
        "im = runColorWithP(im, 0.9, 9/10)\n",
        "im = runEqualizeWithP(im, 0.6, 6/10)\n",
        "im = runAutoContrastWithP(im, 0.8, 4/10)\n",
        "im = runSolarizeWithP(im, 0.2, 8/10)\n",
        "im = runBrightnessWithP(im, 0.1, 3/10)\n",
        "im = runColorWithP(im, 0.7, 0)\n",
        "\n",
        "\n",
        "'''\n",
        "Sub-policy 20 (Solarize,0.4,5) (AutoContrast,0.9,3)\n",
        "Sub-policy 21 (TranslateY,0.9,9) (TranslateY,0.7,9)\n",
        "Sub-policy 22 (AutoContrast,0.9,2) (Solarize,0.8,3)\n",
        "Sub-policy 23 (Equalize,0.8,8) (Invert,0.1,3)\n",
        "Sub-policy 24 (TranslateY,0.7,9) (AutoContrast,0.9,1)'''\n",
        "\n",
        "im = runSolarizeWithP(im, 0.4, 5/10)\n",
        "im = runAutoContrastWithP(im, 0.9, 3/10)\n",
        "im = runTranslateYWithP(im, 0.9, 9/10)\n",
        "im = runTranslateYWithP(im, 0.7, 9/10)\n",
        "im = runAutoContrastWithP(im, 0.9, 2/10)\n",
        "im = runSolarizeWithP(im, 0.8, 3/10)\n",
        "im = runEqualizeWithP(im, 0.8, 8/10)\n",
        "im = runInvertWithP(im, 0.1, 3/10)\n",
        "im = runTranslateYWithP(im, 0.7, 9/10)\n",
        "im = runAutoContrastWithP(im, 0.9, 1/10)\n"
      ],
      "execution_count": 0,
      "outputs": []
    },
    {
      "metadata": {
        "id": "MGUF5IzsNagF",
        "colab_type": "code",
        "outputId": "b7354773-0a0f-4328-a7a2-1f9aa4bc415e",
        "colab": {
          "base_uri": "https://localhost:8080/",
          "height": 283
        }
      },
      "cell_type": "code",
      "source": [
        "plt.imshow(im)\n"
      ],
      "execution_count": 0,
      "outputs": [
        {
          "output_type": "execute_result",
          "data": {
            "text/plain": [
              "<matplotlib.image.AxesImage at 0x7f560aaf2da0>"
            ]
          },
          "metadata": {
            "tags": []
          },
          "execution_count": 19
        },
        {
          "output_type": "display_data",
          "data": {
            "image/png": "[encoded data removed]",
            "text/plain": [
              "<matplotlib.figure.Figure at 0x7f560ab05780>"
            ]
          },
          "metadata": {
            "tags": []
          }
        }
      ]
    }
  ]
}